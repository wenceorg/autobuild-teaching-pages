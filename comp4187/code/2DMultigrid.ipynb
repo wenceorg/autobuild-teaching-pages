{
 "cells": [
  {
   "cell_type": "markdown",
   "metadata": {},
   "source": [
    "# 2D Multigrid for Dary Flow\n",
    "\n",
    "In this notebook, we are going to look at the Darcy flow equation, discretized with a simple finite elements scheme on a hierarchical quad-tree based grid.\n",
    "All concepts are exactly the same as you've seen in the course, but applied in a slightly more difficult setting."
   ]
  },
  {
   "cell_type": "code",
   "execution_count": 2,
   "metadata": {},
   "outputs": [],
   "source": [
    "%matplotlib inline\n",
    "import numpy as np\n",
    "\n",
    "\n",
    "import scipy.special as special\n",
    "import scipy.sparse as sp\n",
    "import scipy.sparse.linalg as splinalg\n",
    "\n",
    "import matplotlib.pyplot as plt\n",
    "import matplotlib as mpl\n",
    "import matplotlib.cm as cm\n",
    "from matplotlib import patches\n",
    "\n",
    "import sys\n",
    "sys.path.append(\"src/\")\n",
    "\n",
    "import quadtree\n",
    "import plotter\n",
    "import fem"
   ]
  },
  {
   "cell_type": "markdown",
   "metadata": {},
   "source": [
    "## The PDE: Darcy Flow\n",
    "We are solving the steady state Darcy flow equation.\n",
    "This equation states the law of fluid flow through a porous medium, e.g. through sand.\n",
    "\n",
    "We have the steady-state fluid pressure $u$ and the spatially varying permeability $K(x,y)$.\n",
    "The PDE is basically a variable-coefficient version of the Poission equation and looks like:\n",
    "$$- \\nabla \\cdot \\left(K(x,y) \\nabla u \\right) = f,\n",
    "\\qquad \\forall \\mathbf{x} \\in \\Omega\n",
    "$$\n",
    "with boundary conditions\n",
    "\\begin{align}\n",
    "u(x,y) &= 0 \\qquad \\forall x \\in \\Gamma_D \\\\\n",
    "-K(x) \\nabla u \\cdot n &= 0 \\qquad \\forall x \\in \\Gamma - \\Gamma_D\n",
    "\\end{align}\n",
    "where $\\Gamma$ is the boundary and $\\Gamma_D$ is the Dirichlet part of the boundary.\n",
    "\n",
    "The Dirichlet boundary is on the top of the domain, all other boundary conditions are set to Neumann.\n",
    "\n",
    "\n",
    "# The grid\n",
    "We define a quadtree-based grid, as this allows us to perform hierarchical algorithms with ease.\n",
    "Briefly, we decompose the domain into squares.\n",
    "\n",
    "# Discretization\n",
    "For the discretization we use a finite element approach. As in finite differences we end up with a stiffness matrix $A_{ij}$ and a right-hand side $f_{i}$, where $i$ and $j$ are indices of vertices.\n",
    "It is important to note here that we remove rows and columns where either $i$ or $j$ corresponds to a vertex where the Dirichlet boundary condition is enfored.\n",
    "We do this to ensure that the remaining system is symmetric.\n",
    "\n",
    "This is all you need to know about the discretization to finish this notebook. The implementation of finite elements can be found in the src directory of the git repository for the lecture."
   ]
  },
  {
   "cell_type": "code",
   "execution_count": 3,
   "metadata": {
    "scrolled": true
   },
   "outputs": [
    {
     "name": "stdout",
     "output_type": "stream",
     "text": [
      "Level 0 has \t4 vertices\n",
      "Level 1 has \t5 vertices\n",
      "Level 2 has \t16 vertices\n",
      "Level 3 has \t56 vertices\n",
      "Level 4 has \t208 vertices\n"
     ]
    },
    {
     "data": {
      "text/plain": [
       "4"
      ]
     },
     "execution_count": 3,
     "metadata": {},
     "output_type": "execute_result"
    }
   ],
   "source": [
    "# Here we build up the geometry.\n",
    "# The code is included in the notebook because it makes it easier to see\n",
    "# how the vertices get numbered.\n",
    "class Geometry:\n",
    "    def __init__(self, level):\n",
    "        center = np.array([0.5, 0.5])\n",
    "        size = 1.0\n",
    "        self.grid = quadtree.Quadtree(center=center, size=size)\n",
    "        self.grid.split_to_level(level)\n",
    "       \n",
    "        self.vertices_coords_to_idx, \\\n",
    "        self.number_of_vertices_per_level, \\\n",
    "        self.boundary_vertices = self.grid.get_vertices()\n",
    "        self.vertices_idx_to_coords = {v: k for k, v in self.vertices_coords_to_idx.items()}\n",
    "        self.grid.set_all_cell_vertices(self.vertices_coords_to_idx)\n",
    "        self.grid.set_all_cell_indices()\n",
    "        \n",
    "        self.dirichlet_vertices = set()\n",
    "        for v in self.boundary_vertices:\n",
    "            eps = 1e-8\n",
    "            if self.vertices_idx_to_coords[v][1] >= (1 - eps):\n",
    "                self.dirichlet_vertices.add(v)\n",
    "        \n",
    "        dirichlet_vertices_array = np.array([*self.dirichlet_vertices])\n",
    "        # We do not store the data for Dirichlet values\n",
    "   \n",
    "        self.data_size_per_level = []\n",
    "        for level in range(self.grid.get_max_level()+1):\n",
    "            n_vert = self.number_of_vertices_per_level[level]\n",
    "            n_dirichlet_vert = len(\n",
    "                dirichlet_vertices_array[\n",
    "                    dirichlet_vertices_array < n_vert])\n",
    "            self.data_size_per_level.append(n_vert - n_dirichlet_vert)\n",
    "            \n",
    "        \n",
    "        self.vertex_idx_to_data_idx = np.zeros(self.number_of_vertices_per_level[-1], dtype=np.int32)\n",
    "        self.data_idx_to_vertex_idx = np.zeros(self.data_size_per_level[-1], dtype=np.int32)\n",
    "        cur_data_idx = 0\n",
    "        for i in range(self.number_of_vertices_per_level[-1]):\n",
    "            if i in self.dirichlet_vertices:\n",
    "                self.vertex_idx_to_data_idx[i] = -1\n",
    "            else:\n",
    "                self.vertex_idx_to_data_idx[i] = cur_data_idx\n",
    "                self.data_idx_to_vertex_idx[cur_data_idx] = i\n",
    "                cur_data_idx += 1       \n",
    "        \n",
    "\n",
    "geometry = Geometry(level=4)\n",
    "geometry.number_of_vertices_per_level[0]"
   ]
  },
  {
   "cell_type": "markdown",
   "metadata": {},
   "source": [
    "The figure below shows the grid for level 3.\n",
    "The red crosses show the vertices (at which the solution is defined), the black circle shows the cell center which is connected by the line. This line shows the order of cells (they are in Z-order), starting from the top-left."
   ]
  },
  {
   "cell_type": "code",
   "execution_count": 4,
   "metadata": {},
   "outputs": [
    {
     "data": {
      "image/png": "[encoded data removed]",
      "text/plain": [
       "<Figure size 576x576 with 1 Axes>"
      ]
     },
     "metadata": {
      "needs_background": "light"
     },
     "output_type": "display_data"
    }
   ],
   "source": [
    "import matplotlib.pyplot as plt\n",
    "fig, ax = plt.subplots(figsize=(8,8))\n",
    "ax.set_xlim(geometry.grid.offset[0], geometry.grid.size)\n",
    "ax.set_ylim(geometry.grid.offset[1], geometry.grid.size) \n",
    "plotter.plot_grid(fig,\n",
    "                  ax,\n",
    "                  geometry.grid,\n",
    "                  level=3,\n",
    "                  c='black', \n",
    "                  vertices=geometry.vertices_idx_to_coords,\n",
    "                  plot_curve=True,\n",
    "                  plot_center=True,\n",
    "                  plot_vertices=True)"
   ]
  },
  {
   "cell_type": "markdown",
   "metadata": {},
   "source": [
    "## Solving the system for a single level\n",
    "Below we show how to setup a discretization, geometry and stiffness matrix and rhs.\n",
    "We also show how to compute a solution with a direct solver."
   ]
  },
  {
   "cell_type": "code",
   "execution_count": 5,
   "metadata": {},
   "outputs": [
    {
     "name": "stdout",
     "output_type": "stream",
     "text": [
      "Level 0 has \t4 vertices\n",
      "Level 1 has \t5 vertices\n",
      "Level 2 has \t16 vertices\n",
      "Level 3 has \t56 vertices\n",
      "Level 4 has \t208 vertices\n"
     ]
    },
    {
     "data": {
      "text/plain": [
       "1.1288878793755534e-15"
      ]
     },
     "execution_count": 5,
     "metadata": {},
     "output_type": "execute_result"
    }
   ],
   "source": [
    "# Use a simple material\n",
    "def eval_k(x,y):\n",
    "    return x + y\n",
    "\n",
    "level = 2\n",
    "geometry = Geometry(level=4)\n",
    "discretization = fem.Discretization(geometry,level=level,eval_k=eval_k)\n",
    "stiffness = discretization.setup_stiffness()\n",
    "rhs = discretization.setup_rhs()\n",
    "sol = splinalg.linsolve.spsolve(stiffness, rhs)\n",
    "\n",
    "# System is solved correctly to double precision:\n",
    "np.linalg.norm(stiffness @ sol - rhs)"
   ]
  },
  {
   "cell_type": "markdown",
   "metadata": {},
   "source": [
    "## Plotting the solution\n",
    "You can visualize the solution with *plot_solution* as below.\n",
    "It also kept in the notebook as a further example of a grid traversal, for the evaluation of the basis functions and for the handling of Dirichlet boundary conditions.\n",
    "\n",
    "The left plot shows the solution, the right one shows the material parameter.\n",
    "Dirichlet vertices are marked with black x."
   ]
  },
  {
   "cell_type": "code",
   "execution_count": 6,
   "metadata": {
    "scrolled": false
   },
   "outputs": [
    {
     "data": {
      "image/png": "[encoded data removed]",
      "text/plain": [
       "<Figure size 1296x576 with 4 Axes>"
      ]
     },
     "metadata": {
      "needs_background": "light"
     },
     "output_type": "display_data"
    }
   ],
   "source": [
    "def plot_solution(geometry, discretization, sol):\n",
    "    # First find minimum and maximum material parameter\n",
    "    min_k, max_k = float('inf'), float('-inf')\n",
    "    for cell in geometry.grid.dfs(only_level=level):\n",
    "        k = discretization.eval_k(cell.center[0], cell.center[1])\n",
    "        min_k = min(k, min_k)\n",
    "        max_k = max(k, max_k)\n",
    "\n",
    "    # Set up color scales for the solution and the material k.\n",
    "    norm_solution = mpl.colors.Normalize(vmin=sol.min(), vmax=sol.max())\n",
    "    norm_k = mpl.colors.Normalize(vmin=min_k, vmax=max_k)\n",
    "    cmap = cm.viridis\n",
    "    color_mapper_solution = cm.ScalarMappable(norm=norm_solution, cmap=cmap)\n",
    "    color_mapper_k = cm.ScalarMappable(norm=norm_k, cmap=cmap)\n",
    "\n",
    "    fig, axs = plt.subplots(1,2, figsize=(18,8))\n",
    "    \n",
    "    # Lists to store Dirichlet vertices.\n",
    "    dirichlet_xs = []\n",
    "    dirichlet_ys = []\n",
    "\n",
    "    for cell in geometry.grid.dfs(only_level=level):\n",
    "        value = 0.0\n",
    "        # Evaluate all basis functions at (0.5, 0.5)\n",
    "        for i, vertex in enumerate(cell.vertices):\n",
    "            # Ignore dirichlet boundary conditions.\n",
    "            # Their value is not stored and is always zero.\n",
    "            if vertex not in geometry.dirichlet_vertices:\n",
    "                # Here we get the index of the data correspond to the vertex.\n",
    "                data_idx = geometry.vertex_idx_to_data_idx[vertex]\n",
    "                value += sol[data_idx] * fem.lagrange_2d(discretization.nodes_x, i, (0.5,0.5))\n",
    "\n",
    "        # Plot the rectangles that build up the grid.\n",
    "        rect = patches.Rectangle(\n",
    "            cell.offset,\n",
    "            cell.size,\n",
    "            cell.size,\n",
    "            fill=True,\n",
    "            color=color_mapper_solution.to_rgba(value))\n",
    "        axs[0].add_patch(rect)\n",
    "\n",
    "        # Plot material\n",
    "        value = discretization.eval_k(cell.center[0], cell.center[1])\n",
    "        rect = patches.Rectangle(\n",
    "            cell.offset,\n",
    "            cell.size,\n",
    "            cell.size,\n",
    "            fill=True,\n",
    "            color=color_mapper_k.to_rgba(value))\n",
    "        axs[1].add_patch(rect)    \n",
    "\n",
    "        # Find dirichlet vertices\n",
    "        for v in cell.vertices:\n",
    "            if v in geometry.dirichlet_vertices:\n",
    "                dirichlet_xs.append(geometry.vertices_idx_to_coords[v][0])\n",
    "                dirichlet_ys.append(geometry.vertices_idx_to_coords[v][1])\n",
    "                \n",
    "    axs[0].set_title(\"Solution\")\n",
    "    axs[0].axis('square')\n",
    "\n",
    "    axs[1].set_title(\"K\")\n",
    "    axs[1].axis('square')\n",
    "\n",
    "    # Mark Dirichlet vertices with black x.\n",
    "    for ax in axs:\n",
    "        ax.scatter(dirichlet_xs, dirichlet_ys, c='black', zorder=10, marker='x', s=50)\n",
    "        \n",
    "    fig.colorbar(color_mapper_solution, ax=axs[0])    \n",
    "    fig.colorbar(color_mapper_k, ax=axs[1])\n",
    "\n",
    "plot_solution(geometry=geometry, discretization=discretization, sol=sol)"
   ]
  },
  {
   "cell_type": "markdown",
   "metadata": {},
   "source": [
    "# A nested iteration\n",
    "\n",
    "Instead of a full multigrid method, lets start with a simpler idea. We could solve on a coarse grid in order to get a starting guess for the finer grid.\n",
    "\n",
    "### Algorithm:\n",
    "1. Start on a very coarse grid with mesh size $h = h_0$ and guess an initial solution $x_h$\n",
    "        \n",
    "2. Iterate over $A_h x_h = b_h$ using relaxation method to get an approximate solution $x_h$\n",
    "        \n",
    "3. interpolate the solution $x_h$ to a finer grid with mesh width $h/2$\n",
    "\n",
    "4. proceed with step 2 (now with mesh size $h := h/2$) using interpolated $x_{h/2}$ as initial solution\n",
    "\n",
    "### Ingredients\n",
    "1. smoother: reduce the high-frequency error components, and get a smooth error\n",
    "2. coarse grid equation: discretisation of the PDE on the coarse grid\n",
    "3. interpolation: transfer coarse grid solution/correction from coarse grid to fine grid\n",
    "\n",
    "Let's go through these three ingredients step by step.\n",
    "\n",
    "## 1. Smoothers\n",
    "The next step towards multigrid is defining the smoother.\n",
    "Here, we want to use a simple Jacobi relaxation. Recall from the precious lecture that we split the matrix $A$ into a diagonal and an off-diagonal part as\n",
    "$$A = D + O.$$\n",
    "We can then write one Jacobi update as\n",
    "$$x^{n+1} = D^{-1} (b - O x^{n}).$$\n",
    "\n",
    "Let's recall the implemenation (here modified to use sparse matrices for performance):"
   ]
  },
  {
   "cell_type": "code",
   "execution_count": 7,
   "metadata": {},
   "outputs": [],
   "source": [
    "def jacobiRelaxation(A, b, x0, max_iter):\n",
    "    diagonal_part = sp.diags(A.diagonal())\n",
    "    diagonal_part_inv = sp.diags(1/A.diagonal())\n",
    "    rest = A - diagonal_part\n",
    "    x = x0\n",
    "    for i in range(max_iter):\n",
    "        x = diagonal_part_inv @ (b - rest @ x)\n",
    "    return x"
   ]
  },
  {
   "cell_type": "markdown",
   "metadata": {},
   "source": [
    "It may be helpful to call a function for the residual:"
   ]
  },
  {
   "cell_type": "code",
   "execution_count": 8,
   "metadata": {},
   "outputs": [],
   "source": [
    "def compute_residual(A, x, b):\n",
    "    return np.linalg.norm(A @ x - b)"
   ]
  },
  {
   "cell_type": "markdown",
   "metadata": {},
   "source": [
    "\n",
    "Let's recall the Gauss-Seidel smoother (here implemented to allow sparse matrices for performance):"
   ]
  },
  {
   "cell_type": "code",
   "execution_count": 19,
   "metadata": {},
   "outputs": [],
   "source": [
    "def gaussSeidelRelaxation(A, b, x0, max_iter):\n",
    "    x = x0\n",
    "\n",
    "    D = sp.diags(A.diagonal(), 0, format = 'csc',)\n",
    "    L = sp.tril(A, format = 'csc')\n",
    "    U = sp.triu(A, format = 'csc')\n",
    "    M = -(splinalg.inv(D+L))* U\n",
    "    Nb = (splinalg.inv(D+L))* b\n",
    "    \n",
    "    for i in range(max_iter):\n",
    "        xnew = M*x + Nb\n",
    "        err = np.linalg.norm(xnew-x, 1)/np.linalg.norm(xnew,1)\n",
    "        x = xnew\n",
    "\n",
    "    return x"
   ]
  },
  {
   "cell_type": "markdown",
   "metadata": {},
   "source": [
    "## 2. Coarse Matrix\n",
    "\n",
    "Next let's create our coarse grid one level smaller than the fine grid (of max_level).\n",
    "\n",
    "But first let's take a look at a single cell and the corresponding fine cells:"
   ]
  },
  {
   "cell_type": "code",
   "execution_count": 21,
   "metadata": {},
   "outputs": [
    {
     "data": {
      "text/plain": [
       "Text(0.5, 1.0, 'Corresponding Fine Cell')"
      ]
     },
     "execution_count": 21,
     "metadata": {},
     "output_type": "execute_result"
    },
    {
     "data": {
      "image/png": "[encoded data removed]",
      "text/plain": [
       "<Figure size 720x720 with 2 Axes>"
      ]
     },
     "metadata": {
      "needs_background": "light"
     },
     "output_type": "display_data"
    }
   ],
   "source": [
    "# Take the first and only cell of level 0.\n",
    "cells = list(geometry.grid.dfs(only_level=0))\n",
    "c = cells[0]\n",
    "\n",
    "fig, axs = plt.subplots(1, 2, sharey=True, figsize=(10,10))\n",
    "plotter.plot_grid(fig, axs[0], grid=c, level=1, vertices=geometry.vertices_idx_to_coords, plot_vertices=True)\n",
    "plotter.plot_grid(fig, axs[1], grid=c, level=2, vertices=geometry.vertices_idx_to_coords, plot_vertices=True)\n",
    "axs[0].axis('square')\n",
    "axs[0].set_title(\"Coarse Cell\")\n",
    "axs[1].axis('square')\n",
    "axs[1].set_title(\"Corresponding Fine Cell\")"
   ]
  },
  {
   "cell_type": "markdown",
   "metadata": {},
   "source": [
    "The left cell in the figure is the coarse cell.\n",
    "The red Xs mark the vertices of each cell.\n",
    "\n",
    "On the right, you can see the corresponding four cells of the grid with one level more.\n",
    "Note that all vertices in the coarse grid also exist in the fine grid.\n",
    "For these vertices, it is trivial to define the fine grid solution.\n",
    "The other values need to somehow be inferred. To start we will use a linear interpolation. In a 1D setting this means that we will take half the value at the point to the left and half of the value of the point to the right. Let's visualise the 1D interpolation:"
   ]
  },
  {
   "cell_type": "code",
   "execution_count": 15,
   "metadata": {},
   "outputs": [
    {
     "data": {
      "image/png": "[encoded data removed]",
      "text/plain": [
       "<Figure size 720x720 with 2 Axes>"
      ]
     },
     "metadata": {},
     "output_type": "display_data"
    }
   ],
   "source": [
    "sol_coarse = [1,2]\n",
    "sol_fine = [1,(1+2)/2,2]\n",
    "ax.clear(); ax.plot(np.linspace(0,1,2), sol_coarse); \n",
    "ax.plot(np.linspace(0,1,3), sol_fine,\"x\"); \n",
    "display(fig)"
   ]
  },
  {
   "cell_type": "markdown",
   "metadata": {},
   "source": [
    "Using this means we can use the geometry defined above with four levels and simply restrict ourselves to a lower level."
   ]
  },
  {
   "cell_type": "code",
   "execution_count": 30,
   "metadata": {},
   "outputs": [
    {
     "name": "stdout",
     "output_type": "stream",
     "text": [
      "Residual 1.1857935354893687\n"
     ]
    },
    {
     "data": {
      "image/png": "[encoded data removed]",
      "text/plain": [
       "<Figure size 1296x576 with 4 Axes>"
      ]
     },
     "metadata": {
      "needs_background": "light"
     },
     "output_type": "display_data"
    }
   ],
   "source": [
    "max_level = 2\n",
    "level = max_level-1\n",
    "discretization_coarse = fem.Discretization(geometry,level=level,eval_k=eval_k)\n",
    "A_coarse = discretization_coarse.setup_stiffness()\n",
    "rhs_coarse = discretization_coarse.setup_rhs()\n",
    "#print(A_coarse.todense())\n",
    "sol_coarse = gaussSeidelRelaxation(A_coarse, rhs_coarse, np.ones(shape = len(rhs_coarse),dtype = float),2)\n",
    "print(\"Residual\", compute_residual(A_coarse,sol_coarse,rhs_coarse))\n",
    "\n",
    "plot_solution(geometry=geometry, discretization=discretization_coarse, sol=sol_coarse)"
   ]
  },
  {
   "cell_type": "markdown",
   "metadata": {},
   "source": [
    "Now that we have the result on the coarse grid how do we use it on the fine grid? In order to use the result of the coarse grid on a fine grid we need to interpolate the solution.\n",
    "\n",
    "\n",
    "## 3. Interpolation\n",
    "As we've discussed, we are using a finite elements discretization for our equation.\n",
    "An advantage of this is that we have a continuous solution over the entire domain.\n",
    "This is quite helpful for definiting the interpolation operator."
   ]
  },
  {
   "cell_type": "markdown",
   "metadata": {},
   "source": [
    "Some notes on other possible choices:\n",
    "1. choose a constant value (ie either value to the side)\n",
    "     - usually too small approximation error\n",
    "     - sometimes used for cell-based coarsening (e.g. for FV methods where the cell values are constants)\n",
    "2. quadratic, cubic, etc.:\n",
    "      - often too costly\n",
    "      - more smoothing steps are cheaper and can eliminate the disadvantage of a lower-order interpolation\n",
    "      \n",
    "For our current approximation a linear interpolation is reasonable.\n",
    "\n",
    "### Interpolation - A small example in matrix notation\n",
    "\n",
    "This assumes a 1D setup\n",
    "  \n",
    "$$\n",
    "  \\left(\\begin{array}{ccc}\n",
    "        \\frac{1}{2} & 0 & 0 \\\\\n",
    "        1 & 0 & 0 \\\\\n",
    "        \\frac{1}{2} & \\frac{1}{2} & 0 \\\\\n",
    "        0 & 1 & 0 \\\\\n",
    "        0 & \\frac{1}{2} & \\frac{1}{2} \\\\\n",
    "        0 & 0 & 1 \\\\\n",
    "        0 & 0 & \\frac{1}{2}\\\\\n",
    "     \\end{array}\\right)\n",
    "     \\left(\\begin{array}{c}\n",
    "        x_1 \\\\ x_2 \\\\ x_3\n",
    "\\end{array}\\right)\n",
    "=\n",
    "     \\left(\\begin{array}{c}\n",
    "        \\frac{1}{2} (0+x_1) \\\\ x_1 \\\\ \\frac{1}{2} ( x_1+x_2) \\\\ x_2 \\\\ \n",
    "        \\frac{1}{2} ( x_2+x_3) \\\\ x_3 \\\\ \\frac{1}{2} (x_3+0)\n",
    "     \\end{array}\\right)$$\n",
    "  \n",
    "Notation: $I_{2h} x_{2h} = x_h$ or $P_{2h}x_{2h} = x_h$\n",
    "\n",
    "Note: disregards boundary values (here: 0-Dirichlet condition assumed)\n",
    "\n",
    "Below you can find some examples of iterating over the vertices of a cell.\n",
    "You can also see how to find the global and reference coordinates for each.\n",
    "Note that each vertex has a global index and a data index.\n",
    "Because the unknowns for the Dirichlet vertices are not stored explicitely, both indices are not identical.\n",
    "Before accessing any matrix/vector that has anything to do with the discrete solution, you need to convert the vertex idx to the data idx.\n",
    "\n",
    "Note that both vertex and data indices are ordered s.t. all indices for a coarse grid also exist in all finer grids."
   ]
  },
  {
   "cell_type": "code",
   "execution_count": 31,
   "metadata": {},
   "outputs": [
    {
     "name": "stdout",
     "output_type": "stream",
     "text": [
      "Found cell with center [0.25 0.75] and size 0.5\n",
      "Its parent has center [0.5 0.5] and size 1.0\n",
      "child's  \t0th vertex has index 4, data index 2, global coordinates (0.0, 0.5) and reference coordinates [-1. -1.]\n",
      "child's  \t1th vertex has index 1, data index -1, global coordinates (0.0, 1.0) and reference coordinates [-1.  1.]\n",
      "child's  \t2th vertex has index 5, data index 3, global coordinates (0.5, 0.5) and reference coordinates [ 1. -1.]\n",
      "child's  \t3th vertex has index 6, data index -1, global coordinates (0.5, 1.0) and reference coordinates [1. 1.]\n",
      "\n",
      "parent's\t0th vertex has index 0, data index 0,  global coordinates (0.0, 0.0) and reference coordinates [-1. -1.]\n",
      "parent's\t1th vertex has index 1, data index -1,  global coordinates (0.0, 1.0) and reference coordinates [-1.  1.]\n",
      "parent's\t2th vertex has index 2, data index 1,  global coordinates (1.0, 0.0) and reference coordinates [ 1. -1.]\n",
      "parent's\t3th vertex has index 3, data index -1,  global coordinates (1.0, 1.0) and reference coordinates [1. 1.]\n",
      "Vertices of level 0 are\t\t{0, 1, 2, 3},\n",
      "vertices of level 1 are\t\t{0, 1, 2, 3, 4, 5, 6, 7, 8}\n",
      "Data indices of level 0 are\t{0, 1},\n",
      "data indices of level 1 are\t{0, 1, 2, 3, 4, 5}\n"
     ]
    }
   ],
   "source": [
    "# Example of finding vertices:\n",
    "\n",
    "# Take a random cell\n",
    "cell = next(geometry.grid.dfs(only_level=1))\n",
    "print(\"Found cell with center {center} and size {size}\".format(\n",
    "    center=cell.center, \n",
    "    size=cell.size))\n",
    "\n",
    "# Next we find the parent of the cell\n",
    "parent = cell.parent\n",
    "print(\"Its parent has center {center} and size {size}\".format(\n",
    "    center=parent.center, \n",
    "    size=parent.size))\n",
    "\n",
    "# Our cell has a few vertices:\n",
    "for i, vertex in enumerate(cell.vertices):\n",
    "    global_coords = geometry.vertices_idx_to_coords[vertex]\n",
    "    reference_coords = fem.map_to_reference_coordinates(cell, global_coords)\n",
    "    print(\n",
    "        \"child's  \\t{i}th vertex has index {idx}, data index {data_idx}, global coordinates {global_coords} and reference coordinates {reference_coords}\".format(\n",
    "    i=i,\n",
    "    idx=vertex,\n",
    "    data_idx=geometry.vertex_idx_to_data_idx[vertex],\n",
    "    global_coords=global_coords,\n",
    "    reference_coords=reference_coords))\n",
    "    \n",
    "print()\n",
    "# The parent also has vertices:\n",
    "for i, vertex in enumerate(parent.vertices):\n",
    "    global_coords = geometry.vertices_idx_to_coords[vertex]\n",
    "    reference_coords = fem.map_to_reference_coordinates(parent, global_coords)\n",
    "    print(\n",
    "        \"parent's\\t{i}th vertex has index {idx}, data index {data_idx},  global coordinates {global_coords} and reference coordinates {reference_coords}\".format(\n",
    "    i=i,\n",
    "    idx=vertex,\n",
    "    data_idx=geometry.vertex_idx_to_data_idx[vertex],\n",
    "    global_coords=global_coords,\n",
    "    reference_coords=reference_coords))\n",
    "# Note that the vertices of both cells have the same reference coordinates.     \n",
    "\n",
    "        \n",
    "# Now we want to evaluate the basis functions of the parent \n",
    "# at the location of the child's vertices.\n",
    "# We can take the first vertex of the PARENT\n",
    "first_basis_function_parent = 0\n",
    "first_vertex_cell = cell.vertices[0]\n",
    "coordinates_vertex_cell = np.array(geometry.vertices_idx_to_coords[first_vertex_cell])\n",
    "# Important: We map to the reference coordinates of the PARENT!\n",
    "reference_coordinates_vertex_cell = fem.map_to_reference_coordinates(parent, coordinates_vertex_cell)\n",
    "\n",
    "# Show that vertices of level l are subset of vertices of level l+1\n",
    "def collect_vertex_ids(geometry, level):\n",
    "    vertex_ids = set()\n",
    "    data_ids = set()\n",
    "    # You can iterate through the cells of a level with a depth-first search.\n",
    "    for cell in geometry.grid.dfs(only_level=level):\n",
    "        for vertex in cell.vertices:\n",
    "            vertex_ids.add(vertex)\n",
    "            if vertex not in geometry.dirichlet_vertices:\n",
    "                data_ids.add(geometry.vertex_idx_to_data_idx[vertex])\n",
    "            \n",
    "    return vertex_ids, data_ids\n",
    "\n",
    "v_0, d_0 = collect_vertex_ids(geometry, 0)\n",
    "v_1, d_1 = collect_vertex_ids(geometry, 1)\n",
    "print(\"Vertices of level 0 are\\t\\t{},\\nvertices of level 1 are\\t\\t{}\".format(v_0, v_1))\n",
    "print(\"Data indices of level 0 are\\t{},\\ndata indices of level 1 are\\t{}\".format(d_0, d_1))"
   ]
  },
  {
   "cell_type": "markdown",
   "metadata": {},
   "source": [
    "The next step is to define an interpolation operator in multiple dimensions.\n",
    "\n",
    "The first function evaluate_solution should evaluate all basis functions of a cell at a given global coordinate.\n",
    "It should return a dictionary that maps vertices of the cell to the evauated basis functions.\n",
    "Use the functions *fem.map_to_reference_coordinates(cell, coord)* to map the coordinates to the reference coordinates and the function *fem.lagrange_2d(discretization.nodes_x, index, reference_coords)* to evaluate the basis function with index *index*. Note that the vertices are sorted s.t. they are ordered identically to the basis functions when looping through cell.vertices.\n",
    "Furthermore be careful to check whether the vertex is a Dirichlet vertex - in this case, the coefficient has to be zero.\n",
    "The set of all vertex ids corresponding to the Dirichlet BC is in *geometry.dirichlet_vertices*.\n",
    "\n",
    "The second function make_interpolation maps from a level_coarse to the next level.\n",
    "The interpolation matrix has the entries $(i,j)$ where i are the data indices correspond tovertices of the coarse grid and $j$ are the coefficients of the hat basis.\n",
    "The algorithm for building up the interpolation matrix is quite simple:\n",
    "- Loop through all cells\n",
    "- Find their parent with cell.parent\n",
    "- Loop over all vertices (in cell.vertices)\n",
    "- Find their indices with geometry.vertices_idx_to_coords\\[vertex_id\\]\n",
    "- Use evaluate_solution to find the coefficients of the parent's basis functions and set the entry in the matrix.\n",
    "You basically have to loop through all cells of a given level, and then use the function evaluate_solution to find the coefficients.\n",
    "You can also refer to worksheet 9, which defines the interpolation operator for the 1D-case - the 2D-algorithm is identical.\n",
    "Note that you should be careful to use *geometry.vertex_idx_to_data_idx* to convert from the vertex to the data index, where appropiate.\n",
    "You can find the number of data points per level in the array *geometry.data_size_per_level[level]*.\n",
    "\n",
    "Only return sparse matrices. Otherwise you will run out of memory for larger levels. \n",
    "\n",
    "Remark: The algorithm basically performs bi-linear interpolation and can also be implemented as a matrix-vector product. For this worksheet, use the algorithm defined above."
   ]
  },
  {
   "cell_type": "code",
   "execution_count": 32,
   "metadata": {
    "scrolled": false
   },
   "outputs": [
    {
     "name": "stdout",
     "output_type": "stream",
     "text": [
      "[[1.   0.   0.   0.   0.   0.  ]\n",
      " [0.   1.   0.   0.   0.   0.  ]\n",
      " [0.   0.   1.   0.   0.   0.  ]\n",
      " [0.   0.   0.   1.   0.   0.  ]\n",
      " [0.   0.   0.   0.   1.   0.  ]\n",
      " [0.   0.   0.   0.   0.   1.  ]\n",
      " [0.   0.   0.5  0.   0.   0.  ]\n",
      " [0.   0.   0.25 0.25 0.   0.  ]\n",
      " [0.   0.   0.   0.5  0.   0.  ]\n",
      " [0.   0.   0.5  0.5  0.   0.  ]\n",
      " [0.   0.   0.   0.25 0.25 0.  ]\n",
      " [0.   0.   0.   0.   0.5  0.  ]\n",
      " [0.   0.   0.   0.5  0.5  0.  ]\n",
      " [0.5  0.   0.5  0.   0.   0.  ]\n",
      " [0.25 0.   0.25 0.25 0.   0.25]\n",
      " [0.   0.   0.   0.5  0.   0.5 ]\n",
      " [0.5  0.   0.   0.   0.   0.5 ]\n",
      " [0.   0.25 0.   0.25 0.25 0.25]\n",
      " [0.   0.5  0.   0.   0.5  0.  ]\n",
      " [0.   0.5  0.   0.   0.   0.5 ]]\n"
     ]
    }
   ],
   "source": [
    "# needed in FEM, in FD this reduces to evaluating at a vertex\n",
    "def evaluate_solution(geometry, discretization, cell, coord):\n",
    "    x, y = fem.map_to_reference_coordinates(cell, coord)\n",
    "    coeff = dict()\n",
    "    for linear_index, vert in enumerate(cell.vertices):\n",
    "        if vert not in geometry.dirichlet_vertices:\n",
    "            coeff[vert] = fem.lagrange_2d(discretization.nodes_x, linear_index, np.array([x,y]))\n",
    "    return coeff\n",
    "\n",
    "def make_interpolation(geometry, level_coarse):\n",
    "    level_fine = level_coarse + 1\n",
    "    discretization = fem.Discretization(geometry, level_fine)\n",
    "\n",
    "    number_of_vertices_coarse = geometry.data_size_per_level[level_coarse]\n",
    "    number_of_vertices_fine = geometry.data_size_per_level[level_fine]\n",
    "    interpolation = sp.lil_matrix((number_of_vertices_fine, number_of_vertices_coarse), dtype=np.float64)\n",
    "    for cell in geometry.grid.dfs(only_level=level_fine):\n",
    "        for vert in cell.vertices:\n",
    "            if vert in geometry.dirichlet_vertices: \n",
    "                continue\n",
    "            data_idx_fine = geometry.vertex_idx_to_data_idx[vert]\n",
    "            coords = geometry.vertices_idx_to_coords[vert]\n",
    "            coeffs = evaluate_solution(geometry, discretization, cell.parent, np.array(coords))\n",
    "            for key, val in coeffs.items():\n",
    "                data_idx_coarse = geometry.vertex_idx_to_data_idx[key]\n",
    "                interpolation[data_idx_fine, data_idx_coarse] = val\n",
    "    return interpolation.tocsc()\n",
    "\n",
    "max_level = 2\n",
    "level_coarse = max_level-1\n",
    "interpolation = make_interpolation(geometry, level_coarse=level_coarse)\n",
    "print(interpolation.todense())"
   ]
  },
  {
   "cell_type": "markdown",
   "metadata": {},
   "source": [
    "### A problem with the \"centered\" interpolation\n",
    "\n",
    "Let's return to the 1D convection-diffusion equation.\n",
    "\n",
    "$$ - \\epsilon u_{xx} + c u_{x} = f, \\qquad 0 < \\epsilon \\ll c $$\n",
    "\n",
    "We will consider the homogeneous problem ($f=0$) with Dirichlet boundaries: $u(0)=1$, $u(1) = 0$. The exact solution for this case is\n",
    "\n",
    "$$ u(x) = \\frac{1}{1 - e^{c /\\epsilon}} \\left( e^{c x /\\epsilon} - e^{c /\\epsilon} \\right) = 1- \\frac{ 1- e^{c x /\\epsilon} }{1 - e^{c /\\epsilon}} $$\n",
    "\n",
    "**Task:** Check this by inserting the solution into the PDE."
   ]
  },
  {
   "cell_type": "code",
   "execution_count": null,
   "metadata": {},
   "outputs": [],
   "source": []
  },
  {
   "cell_type": "code",
   "execution_count": 33,
   "metadata": {},
   "outputs": [
    {
     "data": {
      "text/plain": [
       "[<matplotlib.lines.Line2D at 0x7f6af2cbe9a0>]"
      ]
     },
     "execution_count": 33,
     "metadata": {},
     "output_type": "execute_result"
    },
    {
     "data": {
      "image/png": "[encoded data removed]",
      "text/plain": [
       "<Figure size 432x288 with 1 Axes>"
      ]
     },
     "metadata": {
      "needs_background": "light"
     },
     "output_type": "display_data"
    }
   ],
   "source": [
    "y = np.linspace(0,1,100)\n",
    "eps = 0.1\n",
    "c = 1\n",
    "u = lambda x: 1-(1-np.exp(c*x/eps))/(1-np.exp(c/eps))\n",
    "plt.plot(u(y),y)"
   ]
  },
  {
   "cell_type": "markdown",
   "metadata": {},
   "source": [
    "Operator-dependent Interpolation: If we interpolate at $x=\\frac{1}{2}$ we get\n",
    "\n",
    "   $$ u\\bigl(\\frac{1}{2}\\bigr) = 1- \\frac{ 1- e^{c /2\\epsilon} }{1 - e^{c /\\epsilon}} =: 1 - \\frac{1-z}{1-z^2} $$ for large $z =e^{\\frac{c}{2\\epsilon}}$, we have $u\\bigl(\\frac{1}{2}\\bigr) \\approx 1 - \\frac{1}{z} \\approx 1$\n",
    "   \n",
    "Thus: linear interpolation is inappropriate in this setting (and leads to slow convergence). This means that the choice of interpolation operator needs to be problem-dependent. Making a bad choice here can (and often does) lead to slow convergence of your multigrid scheme. \n",
    "\n",
    "For our current setting, the linear interpolation above does well. So we can continue on to trying out the nested iteration."
   ]
  },
  {
   "cell_type": "code",
   "execution_count": 35,
   "metadata": {},
   "outputs": [
    {
     "data": {
      "image/png": "[encoded data removed]",
      "text/plain": [
       "<Figure size 1296x576 with 4 Axes>"
      ]
     },
     "metadata": {
      "needs_background": "light"
     },
     "output_type": "display_data"
    },
    {
     "data": {
      "image/png": "[encoded data removed]",
      "text/plain": [
       "<Figure size 1296x576 with 4 Axes>"
      ]
     },
     "metadata": {
      "needs_background": "light"
     },
     "output_type": "display_data"
    },
    {
     "data": {
      "image/png": "[encoded data removed]",
      "text/plain": [
       "<Figure size 1296x576 with 4 Axes>"
      ]
     },
     "metadata": {
      "needs_background": "light"
     },
     "output_type": "display_data"
    }
   ],
   "source": [
    "level = 2\n",
    "discretization_fine = fem.Discretization(geometry,level=level,eval_k=eval_k)\n",
    "A_fine = discretization_fine.setup_stiffness()\n",
    "rhs_fine = discretization_fine.setup_rhs()\n",
    "\n",
    "initial_guess_fine = interpolation @ sol_coarse\n",
    "\n",
    "plot_solution(geometry=geometry, discretization=discretization_fine, sol=initial_guess_fine)\n",
    "\n",
    "sol_fine = jacobiRelaxation(A_fine, rhs_fine, initial_guess_fine,1)\n",
    "\n",
    "plot_solution(geometry=geometry, discretization=discretization_fine, sol=sol_fine)\n",
    "plot_solution(geometry=geometry, discretization=discretization_fine, sol=splinalg.linsolve.spsolve(stiffness, rhs))"
   ]
  },
  {
   "cell_type": "markdown",
   "metadata": {},
   "source": [
    "## Observation for nested iteration:\n",
    "The error in interpolated initial guess also includes low frequencies. As a result the relaxation method still converges slowly. Therefore our question is:\n",
    "- can we go “back” to a coarser grid later in the algorithm?\n",
    "\n",
    "If we could do that we could correct these remaining low-frequency errors there."
   ]
  },
  {
   "cell_type": "markdown",
   "metadata": {},
   "source": [
    "# Multigrid\n",
    "To start here is some recommended literature on multigrid:\n",
    "- Briggs, Henson, McCormick: A Multigrid Tutorial (2nd ed.), SIAM, 2000.\n",
    "- Trottenberg, Oosterlee, Schüller: Multigrid, Elsevier, 2001.\n",
    "- Shapira: Matrix-Based Multigrid: Theory and Applications, Springer, 2008.\n",
    "- Hackbusch: Iterative Solution of Large Sparse Systems of Equations, Springer 1993.\n",
    "- Brandt, Livne: Multigrid Techniques: 1984 Guide with Applications to Fluid Dynamics, Revised Edition, SIAM\n",
    "\n",
    "For a different perspective on multigrid have a look at:\n",
    "- M. Griebel: Multilevel algorithms considered as iterative methods on semidefinite systems, SIAM Int. J. Sci. Stat. Comput. 15(3), 1994.\n",
    "\n",
    "\n",
    "## The multigrid idea\n",
    "Observation and convergence analysis of smoothers have shown us that “high-frequency error” is relative to mesh size and that on a sufficiently coarse grid, even very low frequencies can be “high-frequency” (if the mesh size is big). The main idea of multigrid is now to use multiple grids to solve the system of equations and hope that on each grid, a certain range of error frequencies will be reduced efficiently.\n",
    "\n",
    "Idea 2: From the previous nested iteration we have learned that we may want to move back and forth between grids. To make this easier we should work only with the residual equation.\n",
    "\n",
    "##### coarse-grid correction:\n",
    "1. Solve Ae = r on a coarser grid\n",
    "2. This leads to an approximation of the error e\n",
    "3. Add this approximation to the fine-grid solution\n",
    "\n",
    "# A Two-Grid Method\n",
    "\n",
    "### Algorithm:\n",
    "1. relaxation/smoothing on the fine level system $\\rightarrow$ solution $x_h$\n",
    "2. compute the residual $r_h = b_h - A_h x_h$\n",
    "3. restriction of $r_h$ to the coarse grid with mesh width $H$\n",
    "4. compute a solution to $A_H e_H = r_H$\n",
    "5. interpolate the coarse grid solution $e_H$ to the fine grid with mesh width $h$\n",
    "6. add the resulting correction to $x_h$\n",
    "7. again, relaxation/smoothing on the fine grid\n",
    "\n",
    "## Two-Grid Method - Components\n",
    "1. smoother: reduce the high-frequency error components, and get a smooth error\n",
    "\n",
    "2. restriction: transfer residual from fine grid to coarse grid, e.g. injection, (full) weighting\n",
    "     \n",
    "3. coarse grid equation: discretisation of the PDE on the coarse grid\n",
    "\n",
    "4. interpolation: transfer coarse grid solution/correction from coarse grid to fine grid\n",
    "\n",
    "Of these components we are only missing the restriction."
   ]
  },
  {
   "cell_type": "markdown",
   "metadata": {},
   "source": [
    "# Restriction\n",
    "As for the interpolation many choices of restriction are possible. Perhaps the most intuitive start is injection. Here we simply pick values at corresponding coarse grid points.\n",
    "However, other choices are possible. For example, the so-called full weighting restriction is simply a transpose of our interpolation. In many cases this is a safer, more robust choice.\n",
    "\n",
    "Returning to our example from above, we get:\n",
    "\n",
    "### For full weighting (1D):\n",
    "$$     \\frac{1}{2}\\left(\\!\\begin{array}{ccccccc}\n",
    "        \\frac{1}{2} & 1 & \\frac{1}{2} & 0 & 0 & 0 & 0\\\\[0.5ex]\n",
    "        0 & 0 & \\frac{1}{2} & 1 & \\frac{1}{2} & 0 & 0\\\\[0.5ex]\n",
    "        0 & 0 & 0 & 0 & \\frac{1}{2} & 1 & \\frac{1}{2}\n",
    "     \\end{array}\\!\\right) \\!\\!\n",
    "     \\left(\\!\\begin{array}{c}\n",
    "        x_1 \\\\ x_2 \\\\ x_3 \\\\ x_4 \\\\ x_5 \\\\ x_6 \\\\ x_7\n",
    "     \\end{array}\\!\\right)\n",
    "     =\n",
    "     \\left(\\!\\begin{array}{c}\n",
    "        \\frac{1}{4} (x_1+2x_2+x_3) \\\\[0.5ex] \n",
    "        \\frac{1}{4} (x_3+2x_4+x_5) \\\\[0.5ex] \n",
    "        \\frac{1}{4} (x_5+2x_6+x_7) \n",
    "     \\end{array}\\!\\right)$$\n",
    "\n",
    "Notation: $I_{h}^{2h} x_{h} = x_{2h}$ or $R_h^{2h} x_h = x_{2h}$\n",
    "\n",
    "\n",
    "The restriction matrix is the transpose of the interpolation matrix. Implement this as the function make_restricion, again making sure that the matrix is sparse.\n",
    "\n",
    "Now let's implement the restriction in a 2D setting:"
   ]
  },
  {
   "cell_type": "code",
   "execution_count": 46,
   "metadata": {},
   "outputs": [
    {
     "data": {
      "text/plain": [
       "matrix([[1.  , 0.  , 0.  , 0.  , 0.  , 0.  , 0.  , 0.  , 0.  , 0.  ,\n",
       "         0.  , 0.  , 0.  , 0.5 , 0.25, 0.  , 0.5 , 0.  , 0.  , 0.  ],\n",
       "        [0.  , 1.  , 0.  , 0.  , 0.  , 0.  , 0.  , 0.  , 0.  , 0.  ,\n",
       "         0.  , 0.  , 0.  , 0.  , 0.  , 0.  , 0.  , 0.25, 0.5 , 0.5 ],\n",
       "        [0.  , 0.  , 1.  , 0.  , 0.  , 0.  , 0.5 , 0.25, 0.  , 0.5 ,\n",
       "         0.  , 0.  , 0.  , 0.5 , 0.25, 0.  , 0.  , 0.  , 0.  , 0.  ],\n",
       "        [0.  , 0.  , 0.  , 1.  , 0.  , 0.  , 0.  , 0.25, 0.5 , 0.5 ,\n",
       "         0.25, 0.  , 0.5 , 0.  , 0.25, 0.5 , 0.  , 0.25, 0.  , 0.  ],\n",
       "        [0.  , 0.  , 0.  , 0.  , 1.  , 0.  , 0.  , 0.  , 0.  , 0.  ,\n",
       "         0.25, 0.5 , 0.5 , 0.  , 0.  , 0.  , 0.  , 0.25, 0.5 , 0.  ],\n",
       "        [0.  , 0.  , 0.  , 0.  , 0.  , 1.  , 0.  , 0.  , 0.  , 0.  ,\n",
       "         0.  , 0.  , 0.  , 0.  , 0.25, 0.5 , 0.5 , 0.25, 0.  , 0.5 ]])"
      ]
     },
     "execution_count": 46,
     "metadata": {},
     "output_type": "execute_result"
    }
   ],
   "source": [
    "def make_restriction(geometry, level_coarse):\n",
    "    return make_interpolation(geometry, level_coarse).T\n",
    "\n",
    "make_restriction(geometry, level_coarse=level_coarse).todense()"
   ]
  },
  {
   "cell_type": "markdown",
   "metadata": {},
   "source": [
    "### Open questions\n",
    "- Are there other methods of computing the coarse grid operator than discretisation?"
   ]
  },
  {
   "cell_type": "markdown",
   "metadata": {},
   "source": [
    "# Coarse Grid Operator\n",
    "Next, we use the Galerkin construction of the coarse grid operators.\n",
    "We define the coarse grid operators as\n",
    "$$A^{2h} = R^{h \\to 2h} A^{h} P^{2h \\to ih}$$\n",
    "where $A^{2h}$ is the operator on a grid that's one level smaller than the operator $A^{h}$.\n",
    "$P^{h \\to 2h}$ is the prologation/interpolaton operator that maps a vector from a grid to a grid of the next level and $R^{h \\to 2h}$ is the restriction operator that maps to the next coarser grid.\n",
    "\n",
    "The data structure is already defined below. You need to fill in the blanks and initialize the variables\n",
    "\n",
    "```\n",
    "coarse_to_fine\n",
    "fine_to_coarse\n",
    "stiffness\n",
    "```\n",
    "\n",
    "You can initialize the stiffness matrices by going from the finest grid backwards and computing the coarser operator from the previously computed matrix.\n",
    "\n",
    "The output for level_min=1, level_max=3 should look like this (you can ignore the specific sparse matrix format, as long as the matrices are sparse):\n",
    "\n",
    "```\n",
    "storage.fine_to_coarse\n",
    "([<2x6 sparse matrix of type '<class 'numpy.float64'>'\n",
    "  \twith 8 stored elements in Compressed Sparse Row format>,\n",
    "  <6x20 sparse matrix of type '<class 'numpy.float64'>'\n",
    "  \twith 35 stored elements in Compressed Sparse Row format>,\n",
    "  <20x72 sparse matrix of type '<class 'numpy.float64'>'\n",
    "  \twith 143 stored elements in Compressed Sparse Row format>]\n",
    "```\n",
    "\n",
    "```\n",
    "storage.coarse_to_fine\n",
    "[<6x2 sparse matrix of type '<class 'numpy.float64'>'\n",
    "  \twith 8 stored elements in Compressed Sparse Column format>,\n",
    "  <20x6 sparse matrix of type '<class 'numpy.float64'>'\n",
    "  \twith 35 stored elements in Compressed Sparse Column format>,\n",
    "  <72x20 sparse matrix of type '<class 'numpy.float64'>'\n",
    "  \twith 143 stored elements in Compressed Sparse Column format>]\n",
    "```\n",
    "   \n",
    "```\n",
    "storage.stiffness\n",
    "[<6x6 sparse matrix of type '<class 'numpy.float64'>'\n",
    "  \twith 28 stored elements in Compressed Sparse Row format>,\n",
    "  <20x20 sparse matrix of type '<class 'numpy.float64'>'\n",
    "  \twith 130 stored elements in Compressed Sparse Row format>,\n",
    "  <72x72 sparse matrix of type '<class 'numpy.float64'>'\n",
    "  \twith 550 stored elements in Compressed Sparse Column format>]\n",
    "```\n",
    "\n",
    "The coarse grid operators that you get from:\n",
    "- direct discretization on the coarse grid\n",
    "- Galerkin construction\n",
    "\n",
    "should be identical up to a constant."
   ]
  },
  {
   "cell_type": "code",
   "execution_count": 49,
   "metadata": {},
   "outputs": [
    {
     "name": "stdout",
     "output_type": "stream",
     "text": [
      "Level 0 has \t4 vertices\n",
      "Level 1 has \t5 vertices\n",
      "Level 2 has \t16 vertices\n",
      "Level 3 has \t56 vertices\n"
     ]
    }
   ],
   "source": [
    "class MultigridStorage:\n",
    "    def __init__(self, discretization, level_min, level_max, stiffness):\n",
    "        self.level_min = level_min\n",
    "        self.level_max = level_max\n",
    "        \n",
    "        self.geometry = discretization.geometry\n",
    "        geometry = discretization.geometry\n",
    "        \n",
    "        number_of_levels = (level_max - level_min + 1)\n",
    "        self.coarse_to_fine = [None] * number_of_levels\n",
    "        self.fine_to_coarse = [None] * number_of_levels\n",
    "        self.stiffness = [None] * number_of_levels\n",
    "        self.stiffness[-1] = stiffness\n",
    "  \n",
    "        for level_index in range(number_of_levels - 1, -1, -1):\n",
    "            level = level_index + level_min\n",
    "            self.coarse_to_fine[level_index] = \\\n",
    "                make_interpolation(geometry, level_coarse=level-1)\n",
    "            self.fine_to_coarse[level_index] = make_restriction(geometry, level_coarse=level-1)\n",
    "            if level != level_max:\n",
    "                interpolation = make_interpolation(geometry, level_coarse=level)\n",
    "                restriction = make_restriction(geometry, level_coarse=level)\n",
    "                self.stiffness[level_index] = \\\n",
    "                 restriction * self.stiffness[level_index+1] * interpolation\n",
    "                discretization_coarse = fem.Discretization(geometry, level=level, eval_k=discretization.eval_k)\n",
    "                \n",
    "level = 3\n",
    "geometry = Geometry(level=level)\n",
    "\n",
    "eval_k = lambda x, y: x + y + 0.001\n",
    "discretization = fem.Discretization(geometry, level=level, eval_k=eval_k)\n",
    "stiffness = discretization.setup_stiffness()\n",
    "rhs = discretization.setup_rhs()\n",
    "sol = splinalg.linsolve.spsolve(stiffness, rhs)\n",
    "\n",
    "storage = MultigridStorage(discretization, level_min=1, level_max=level, stiffness=stiffness)"
   ]
  },
  {
   "cell_type": "markdown",
   "metadata": {},
   "source": [
    "# Outlook: Multigrid\n",
    "\n",
    "- Generalise the two grid method to an arbitrary number of grids\n",
    "- Structure remain: smooth $\\rightarrow$ restrict $\\rightarrow$ interpolate (repeat)\n",
    "- V-cycle: recursive call of Two-/Multigrid solver on coarse grids\n",
    "- W-cycle: perform two coarse grid correction steps instead of one"
   ]
  },
  {
   "cell_type": "markdown",
   "metadata": {},
   "source": [
    "# V-Cycle\n",
    "We use the following recursive algorithm do define one v-cycle (see A multigrid tutorial Chapter 3 or lecture for more details).\n",
    "The vcycle operator $V^h$ for a grid with spacing $h$, initial guess $v^h$ and right-hand-side $f^h$ is\n",
    "$$v^h = V^h(v^h,f^h)$$\n",
    "\n",
    "1. Relax $s_1$ times on $A^h u^h = f^h$\n",
    "2. If already coarsest grid, go to step 5 (no further iteration possible).\n",
    "3. Else:\n",
    "\n",
    "    (Setup rhs for residual equation)\n",
    "\n",
    "    $$f^{2h} = R^{2h \\to h} (f^h - A^h v^h)$$\n",
    "    \n",
    "    (Set initial guess for update to zero)\n",
    "    \n",
    "    $$v^{2h} = 0$$\n",
    "    \n",
    "    (Call vcycle recursively.)\n",
    "    \n",
    "    $$v^{2h} = V^{2h} (v^{2h}, f^{2h})$$\n",
    "\n",
    "4. Correct $$v^h = v^h +P^{2h \\to h} v^{2h} $$\n",
    "5. Relax $s_2$ times on $A^h u^h = f^h$ with initial guess $v^h$.\n",
    "  \n",
    "We have defined all necessary matrices and the smoother in the steps before.\n",
    "The only part left is combining all loose parts into one coherent algorithm.\n",
    "\n",
    "We choose $s_1=5$, $s_2=5$.\n",
    "\n",
    "Let's implement this. We use the MultigridStorage that defined earlier to access the grid transfer matrices and the coarse grid operators."
   ]
  },
  {
   "cell_type": "code",
   "execution_count": 58,
   "metadata": {},
   "outputs": [
    {
     "name": "stdout",
     "output_type": "stream",
     "text": [
      "Residual after 1 \titerations = 0.01123717141499085,\tError = 7.572194181819596\n",
      "Residual after 2 \titerations = 0.00025070954823932357,\tError = 0.16569666201218794\n",
      "Residual after 3 \titerations = 5.703650933277333e-06,\tError = 0.003699078376510726\n",
      "Residual after 4 \titerations = 1.3148487348095513e-07,\tError = 8.344111284061956e-05\n",
      "Residual after 5 \titerations = 3.0486964131923956e-09,\tError = 1.8936585898635001e-06\n",
      "Residual after 6 \titerations = 7.081821429586213e-11,\tError = 4.313958451030057e-08\n",
      "Residual after 7 \titerations = 1.6443444356429967e-12,\tError = 9.854616451660884e-10\n",
      "Residual after 8 \titerations = 3.776610666952659e-14,\tError = 2.296198597009316e-11\n",
      "Residual after 9 \titerations = 2.4834746228126217e-15,\tError = 1.022579991858965e-12\n",
      "Residual after 10 \titerations = 2.210448884030214e-15,\tError = 5.723122912667575e-13\n"
     ]
    }
   ],
   "source": [
    "def v_cycle(storage, level, rhs, unknowns):\n",
    "    level_index = level - storage.level_min\n",
    "    restriction = storage.fine_to_coarse[level_index]\n",
    "    stiffness = storage.stiffness[level_index]\n",
    "    unknowns = jacobiRelaxation(A=stiffness, b=rhs, x0=unknowns, max_iter=5)\n",
    "    if level != storage.level_min:\n",
    "        residual_fine = (rhs - stiffness @ unknowns)\n",
    "        rhs_coarse = restriction @ residual_fine\n",
    "        unknowns_coarse = np.zeros(storage.geometry.data_size_per_level[level_index])\n",
    "\n",
    "        update = v_cycle(storage, level-1, rhs=rhs_coarse, unknowns=unknowns_coarse)\n",
    "        # Correct\n",
    "        unknowns += storage.coarse_to_fine[level_index] @ update\n",
    "    # Don't forget relaxation here!\n",
    "    unknowns = jacobiRelaxation(A=stiffness, b=rhs, x0=unknowns, max_iter=5)\n",
    "    return unknowns\n",
    "\n",
    "# Zero initial guess\n",
    "unknowns = np.zeros(geometry.data_size_per_level[storage.level_max])\n",
    "for cycle in range(10):\n",
    "    unknowns = v_cycle(storage, level=storage.level_max, rhs=rhs, unknowns=unknowns)\n",
    "    print(\"Residual after {} \\titerations = {},\\tError = {}\".\n",
    "          format(\n",
    "          (cycle+1),\n",
    "          compute_residual(stiffness, unknowns, rhs),\n",
    "          np.linalg.norm(sol - unknowns)\n",
    "          ))"
   ]
  },
  {
   "cell_type": "code",
   "execution_count": 59,
   "metadata": {},
   "outputs": [
    {
     "name": "stdout",
     "output_type": "stream",
     "text": [
      "Residual after 1 \titerations = 0.01123717141499085,\tError = 7.572194181819596\n",
      "Residual after 2 \titerations = 0.00025070954823932357,\tError = 0.16569666201218794\n",
      "Residual after 3 \titerations = 5.703650933277333e-06,\tError = 0.003699078376510726\n",
      "Residual after 4 \titerations = 1.3148487348095513e-07,\tError = 8.344111284061956e-05\n",
      "Residual after 5 \titerations = 3.0486964131923956e-09,\tError = 1.8936585898635001e-06\n",
      "Residual after 6 \titerations = 7.081821429586213e-11,\tError = 4.313958451030057e-08\n",
      "Residual after 7 \titerations = 1.6443444356429967e-12,\tError = 9.854616451660884e-10\n",
      "Residual after 8 \titerations = 3.776610666952659e-14,\tError = 2.296198597009316e-11\n",
      "Residual after 9 \titerations = 2.4834746228126217e-15,\tError = 1.022579991858965e-12\n",
      "Residual after 10 \titerations = 2.210448884030214e-15,\tError = 5.723122912667575e-13\n"
     ]
    }
   ],
   "source": [
    "# Zero initial guess\n",
    "unknowns = np.zeros(geometry.data_size_per_level[storage.level_max])\n",
    "for cycle in range(10):\n",
    "    unknowns = v_cycle(storage, level=storage.level_max, rhs=rhs, unknowns=unknowns)\n",
    "    print(\"Residual after {} \\titerations = {},\\tError = {}\".\n",
    "          format(\n",
    "          (cycle+1),\n",
    "          compute_residual(stiffness, unknowns, rhs),\n",
    "          np.linalg.norm(sol - unknowns)\n",
    "          ))"
   ]
  },
  {
   "cell_type": "code",
   "execution_count": 60,
   "metadata": {},
   "outputs": [
    {
     "data": {
      "image/png": "[encoded data removed]",
      "text/plain": [
       "<Figure size 1296x576 with 4 Axes>"
      ]
     },
     "metadata": {
      "needs_background": "light"
     },
     "output_type": "display_data"
    }
   ],
   "source": [
    "plot_solution(geometry, discretization, unknowns)"
   ]
  },
  {
   "cell_type": "code",
   "execution_count": 62,
   "metadata": {},
   "outputs": [
    {
     "name": "stdout",
     "output_type": "stream",
     "text": [
      "Residual after 100 \titerations = 0.05290435257980684,\tError = 40.69796300381225\n",
      "Residual after 200 \titerations = 0.006190775870424455,\tError = 4.7618799621787575\n",
      "Residual after 300 \titerations = 0.0007243800651490802,\tError = 0.5571854982852145\n",
      "Residual after 400 \titerations = 8.47593986450789e-05,\tError = 0.06519603456177887\n",
      "Residual after 500 \titerations = 9.917660636429444e-06,\tError = 0.00762855985287364\n",
      "Residual after 600 \titerations = 1.160461188527307e-06,\tError = 0.0008926144945582028\n",
      "Residual after 700 \titerations = 1.3578506229382944e-07,\tError = 0.00010444443677983267\n",
      "Residual after 800 \titerations = 1.588815137876132e-08,\tError = 1.2220998672643795e-05\n",
      "Residual after 900 \titerations = 1.8590651648912637e-09,\tError = 1.4299740216712522e-06\n",
      "Residual after 1000 \titerations = 2.1752786358978566e-10,\tError = 1.673208442933094e-07\n"
     ]
    }
   ],
   "source": [
    "unknowns = np.zeros(geometry.data_size_per_level[storage.level_max])\n",
    "for it in range(10):\n",
    "    unknowns = jacobiRelaxation(A=stiffness, x0=unknowns, b=rhs, max_iter=100)\n",
    "    print(\"Residual after {} \\titerations = {},\\tError = {}\".\n",
    "          format(\n",
    "          (it+1) * 100,\n",
    "          compute_residual(stiffness, unknowns, rhs),\n",
    "          np.linalg.norm(sol - unknowns)\n",
    "          ))\n",
    "    "
   ]
  },
  {
   "cell_type": "code",
   "execution_count": 63,
   "metadata": {},
   "outputs": [
    {
     "data": {
      "image/png": "[encoded data removed]",
      "text/plain": [
       "<Figure size 1296x576 with 4 Axes>"
      ]
     },
     "metadata": {
      "needs_background": "light"
     },
     "output_type": "display_data"
    }
   ],
   "source": [
    "plot_solution(geometry, discretization, unknowns)"
   ]
  },
  {
   "cell_type": "markdown",
   "metadata": {},
   "source": [
    "## Speed of Convergence for multigrid\n",
    "\n",
    "Multigrid is currently the fastest method around (if all components are chosen carefully), but in practice the best-possible convergence is  often hard to obtain.  \n",
    "\n",
    "### textbook multigrid efficiency:\n",
    "$$ \\left\\| e^{(m+1)} \\right\\| \\le \\gamma \\left\\| e^{(m)} \\right\\|,$$\n",
    "where the convergence rate $\\gamma < 1$ (esp. $\\gamma \\ll 1$) is independent of the number of unknowns.\n",
    "This means in particular, that a constant number of multigrid steps is needed to obtain a given number of digits of accuracy and that the overall computational work increases only linearly with the number of unknowns.\n",
    "\n",
    "For the simpler model problem we have looked at, the Poisson Problem:\n",
    "- $\\mathcal{O}(n)$ to solve until we have reduced the error by a factor of ...'' ($10^{-8}$, e.g.)\n",
    "\n",
    "- In many cases we want to solve to an error depending on discretisation error instead. For example $\\mathcal{O}(h^2)$. In this case we can solve coarse problems less accurately.\n",
    "\n",
    "\n",
    "For other problems:\n",
    "- OK for strongly elliptic problems\n",
    "- multigrid variants exist for non-linear problems, parabolic/hyperbolic, ...\n",
    "- every component may fail, leading to slow or no convergence: smoother, interpolation/restriction, coarse-grid operator\n",
    "\n",
    "Thus, achieving \"textbook efficiency\" for a new problem is usually a demanding task."
   ]
  },
  {
   "cell_type": "markdown",
   "metadata": {},
   "source": [
    "## Analyzing the convergence\n",
    "**Task** We want to compare the convergnce properties of our smoother with the v-cycle algorithm.\n",
    "Answer the following questions:\n",
    "- How many iterations are needed to get a residual lower than 1e-6?\n",
    "- How many prolongations, restrictions, and smoother steps are needed for one/all multigrid cycles?\n",
    "For the first one, write the code below, for the second one, write your answer in the following text field."
   ]
  },
  {
   "cell_type": "markdown",
   "metadata": {},
   "source": [
    "**Answer**: "
   ]
  },
  {
   "cell_type": "code",
   "execution_count": null,
   "metadata": {},
   "outputs": [],
   "source": [
    "# TODO Compute iterations for Jacobi"
   ]
  },
  {
   "cell_type": "code",
   "execution_count": null,
   "metadata": {},
   "outputs": [],
   "source": [
    "# TODO Compute iterations for v-cycle"
   ]
  },
  {
   "cell_type": "markdown",
   "metadata": {},
   "source": [
    "## V-Cycle -- Computational Costs\n",
    "\n",
    "In order to compute the computational cost of a V-cycle we must first hold down some assumptions:\n",
    "- the number of unknowns on the coarsest grid is very small, ideally $\\mathcal{O}(1)$\n",
    "- number of smoothing steps is typically very small (1 or 2) and must not depend on problem size\n",
    "\n",
    "\n",
    "### Computational Costs (storage and computing time):\n",
    "- 1D: $c\\cdot n+c\\cdot n/2+c\\cdot n/4+\\ldots\\leq2c\\cdot n$\n",
    "\n",
    "- 2D: $c\\cdot n+c\\cdot n/4+c\\cdot n/16+\\ldots\\leq4/3c\\cdot n$\n",
    "\n",
    "- 3D: $c\\cdot n+c\\cdot n/8+c\\cdot n/64+\\ldots\\leq8/7c\\cdot n$\n",
    "\n",
    " here $n$ the number of grid points on the finest grid: typicall $n = h^{-D}$\n",
    "\n",
    "\n",
    "Overall the costs are dominated by the costs of the finest grid.\n",
    "\n",
    "Thus: runtime $\\mathcal{O}(n)$ per iteration, but how many iterations necessary?\n",
    "\n",
    "From our previous note on convergence we know that this number is problem-dependent, but independent of the number of unknowns (under some additional assumputions)!"
   ]
  },
  {
   "cell_type": "markdown",
   "metadata": {},
   "source": [
    "# The W-cycle\n",
    "In some cases the coarse grid correction may not be sufficiently accurate. Here we want to spend more time on the coarse grid. This means we perform two coarse grid correction steps instead of one.\n",
    "\n",
    "<img src=vcycle.png></img>\n",
    "\n",
    "**Task** Implement a w-cycle. Hint: this is just one small change to the V-cycle"
   ]
  },
  {
   "cell_type": "code",
   "execution_count": null,
   "metadata": {},
   "outputs": [],
   "source": []
  },
  {
   "cell_type": "markdown",
   "metadata": {},
   "source": [
    "# The Full Multigrid V-Cycle (FMV- or F-Cycle)\n",
    "\n",
    "Another alternative to the V and W-cycles, is the so-called full-multigrid V-cycle or F-cycle. This is given by a recursive algorithm. It is essentially just a combination of the nested iteration and a V-cycle. We (recursively!) perform an FMV-cycle on the next coarser grid to \n",
    "        get a good initial solution. Then we interpolate this initial guess to the current grid and finally perform a V-cycle to improve the solution\n",
    "\n",
    "<img src=fullcycle.png></img>\n",
    "\n",
    "**Task** Implement a F-cycle. "
   ]
  },
  {
   "cell_type": "code",
   "execution_count": null,
   "metadata": {},
   "outputs": [],
   "source": []
  },
  {
   "cell_type": "markdown",
   "metadata": {},
   "source": [
    "# Some further notes on smoothers for multigrid\n",
    "\n",
    "When solving multigrid for something other than the Darcy equation used here, there are multiple tricky situations that can make using Jacobi difficult.\n",
    "\n",
    "### Smoothers -- Anisotropic Problems\n",
    "\n",
    "Let us return once more to the 1 dimensional setting and use as a model problem the \n",
    "anisotropic Poisson equation: $$ u_{xx} + \\epsilon u_{yy} = f, $$\n",
    "          with $\\epsilon \\ll 1$ \n",
    "          (or similar: $\\epsilon \\gg 1$)\n",
    "          \n",
    "In this case we might discretise the Poisson equation on stretched grids: \n",
    "$$   \\frac{1}{h_x^2} (u_{i+1,j} - 2 u_{i,j} + u_{i-1,j}) \n",
    "          + \\frac{1}{h_y^2} (u_{i,j+1} - 2 u_{i,j} + u_{i,j-1}) = f_{ij}$$\n",
    "with $h_x \\ll h_y$ (or similar: $h_x \\gg h_y$)\n",
    "\n",
    "We end up with a strong dependency in $x$-direction, and only a weak dependency in $y$-direction  (or vice versa). This means that with standard smoothers we obtain good smoothing of the error only in $x$-direction (or in $y$-direction):\n",
    "\n",
    "$$u_{i,j} = \\frac{1}{2h_x^2 + 2h_y^2} \\biggl( - h_x^2 h_y^2 f_{ij} \n",
    "                 + h_y^2 (u_{i+1,j} + u_{i-1,j}) - h_x^2 (u_{i,j+1}  + u_{i,j-1}) \\biggr)$$\n",
    "\n",
    "#### Solution: Semi-Coarsening:\n",
    "The situation on coarser grid for example $H_x = 2 h_x$, $H_y = h_y$: \n",
    "$$   \\frac{1}{4 h_x^2} (u_{i+1,j} - 2 u_{i,j} + u_{i-1,j}) \n",
    "          + \\frac{1}{h_y^2} (u_{i,j+1} - 2 u_{i,j} + u_{i,j-1}) = f_{ij}$$\n",
    "          \n",
    "Thus: anisotropy has weakened on the semi-coarsened grid\n",
    "\n",
    "### Smoothers -- Convection-Diffusion\n",
    "\n",
    "Next let us look at the 1D Convection-Diffusion equation:\n",
    "$$ - \\epsilon u_{xx} + u_{x} = f, \\qquad \\epsilon \\ll 1$$\n",
    "Then, the  upwind discretisaton: \n",
    "$$    - \\frac{\\epsilon}{h^2} (u_{n-1} - 2 u_n + u_{n+1}) + \\frac{1}{h} (u_n - u_{n-1}) = f_n $$\n",
    "\n",
    "How do our two smoothers perform for this problem?\n",
    "\n",
    "1. (weighted) Jacobi: no smoothing, basically updates one grid point per iteration\n",
    "2.  Gauss-Seidel (relaxation from left to right): leads to almost an exact solver\n",
    "        \n",
    "### Smoothers -- More Complicated Situations\n",
    "\n",
    "Let's look next at the anisotropic Poisson with space-dependent $\\epsilon = \\epsilon(x,y)$, or more generally:\n",
    "$$  - \\nabla \\bigl( \\epsilon(x,y) \\nabla u(x,y) \\bigr) = f(x,y)$$\n",
    "Or, at a convection-diffusion with variable convection: \n",
    "$$  - \\epsilon u_{xx} + v(x) u_{x} = f \\qquad\n",
    "            - \\epsilon \\Delta u + v(x,y) \\nabla u(x,y) = f (x,y)$$\n",
    "\n",
    "In these cases all approaches that we have seen so far fail. However, there a many more advanced techniques that can be applied, these include\n",
    "\n",
    "1.  alternating line smoothers in 2D, or plane smoothers in 3D\n",
    "2.  Zebra line smoothers (similar to red-black-GS)\n",
    "3.  Gauss-Seidel smoothing in downwind order for  difficult to do for complicated flows in 2D and 3D \n",
    "\n",
    "The book  [Hackbusch, Iterative Solution of Large Sparse Systems of Equations, Springer, 1993] will provide more detail on these."
   ]
  },
  {
   "cell_type": "code",
   "execution_count": null,
   "metadata": {},
   "outputs": [],
   "source": []
  }
 ],
 "metadata": {
  "kernelspec": {
   "display_name": "Python 3",
   "language": "python",
   "name": "python3"
  },
  "language_info": {
   "codemirror_mode": {
    "name": "ipython",
    "version": 3
   },
   "file_extension": ".py",
   "mimetype": "text/x-python",
   "name": "python",
   "nbconvert_exporter": "python",
   "pygments_lexer": "ipython3",
   "version": "3.8.5"
  }
 },
 "nbformat": 4,
 "nbformat_minor": 4
}
