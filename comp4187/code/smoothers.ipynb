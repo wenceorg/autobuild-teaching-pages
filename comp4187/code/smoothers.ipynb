{
 "cells": [
  {
   "cell_type": "markdown",
   "metadata": {},
   "source": [
    "# Iterative solvers\n",
    "\n",
    "Many methods for discretising PDE operators exist:\n",
    "\n",
    "- Finite Differences\n",
    "- Finite Volume Methods\n",
    "- Finite Element Methods\n",
    "- Discontinuous Galerkin\n",
    "\n",
    "So far we have only looked at finite difference methods. One thing they have in common is that they all transform a PDE into a large linear system. For some time-stepping schemes, e.g. explicit Euler, we do not need solve the system. However, in general, we need to be able to quickly solve the resulting linear system.\n",
    "\n",
    "## Direct Solvers\n",
    "Let's assume that we have N degrees of freedom (i.e. entries in our vector), then Gaussian elimination will scale with O(N^2). Conversely, a highly optimised sparse direct solvers can reach O(N^3/2). Without taking into account round-off errors, direct methods give an exact solution.\n",
    "\n",
    "## Iterative Solvers\n",
    "\n",
    "Iterative solvers consist only of matrix-vector products and generally only give an approximate solution. However, using iterative solvers we can easily achieve a scaling of O(N) when solving the linear system.\n",
    "\n",
    "There are two major classes of iterative solvers:\n",
    "1. Stationary iterative solvers, e.g. relaxation methods\n",
    "2. Krylov subspace methods, e.g. CG, preconditioned CG\n",
    "\n",
    "In this notebook we will cover some basic relaxation methods. We want to solve a linear system of equations\n",
    "$Ax=b$                                    \n",
    "by finding a sequence of approximate solutions $x^{(k)}$ that converge to the true solution $x$.\n",
    "The error is given by\n",
    "$$e^{(k)}:=x−x^{(k)}$$\n",
    "\n",
    "Since the true solution is generally not known, it is not possible to compute the error. We need to introduce a measure for the error that is computable. Let us define the residual:\n",
    "$$r^{(k)} := b - Ax^{(x)}$$\n",
    "\n",
    "The residual and the error have a simple relationship:\n",
    "$$r^{(k)} := b - Ax^{(x)} = Ax - Ax^{(k)} = A(x-x^{(k)})= Ae^{(k)}$$\n",
    "\n",
    "We can now repose the linear system using the residual:\n",
    "$$r^{(k)} = Ae^{(k)}$$\n",
    "This form of the equation is referred to as the residual equation.\n",
    "\n",
    "From now on we always work with the residual equation $r^{(k)}=Ae^{(k)}$ instead of $Ax^{(k)}=b$.\n",
    "We approximate the error $e^{(k)}$ in each step. This gives updates $x^{(k+1)} = x^{(k)} + \\tilde e^{(k)}$, where $\\tilde e^{(k)}$ is an approximation of the error at this step. But how can we compute the approximations $\\tilde e^{(k)}$ using the residual equation?\n",
    "\n",
    "<b>Idea:</b> Solve an easier equation instead.\n",
    "\n",
    "Let's introduce a matrix $B$, such that \n",
    "1. $B$ is easy to invert, e.g. a diagonal matrix\n",
    "2. $B$ is similar to $A$ in some sense $A\\sim B$. We will define what it means to be similar later on. \n",
    "Then we can solve the residual equation for $B$\n",
    "$$B\\hat e^{(k)} = r^{(k)}$$\n",
    "and use $\\hat e^{(k)}$ as an approximation to the error $e^{(k)}$ in our original equation. This gives the iterative scheme:\n",
    "$$x^{(k+1)} = x^{(k)} + \\hat e^{(k)}$$\n",
    "\n",
    "With this simple iterative scheme in mind we now need to figure out how to choose $B$. Let's start with the simplest possible idea and set $B$ to be the diagonal of $A$. The resulting scheme is called Jacobi relaxation. This choice of $B$ is clearly easy to invert. The open question is whether it is sufficiently similar to $A$ to give a reasonable approximation of the error. To get an idea of that let's try it out. We need to implement the following:\n",
    "\n",
    "### Jacobi Relaxation\n",
    "\n",
    "For $k=1...$\n",
    "- Solve $\\mathop{diag}(A) \\hat e^{(k)} = r^{(k)}$\n",
    "- Update $x^{(k+1)} = x^{(k)} + \\hat e^{(k)}$\n",
    "- Update residual $r^{(k+1)} = b - Ax^{(k+1)}$\n",
    "\n",
    "or, more compactly:\n",
    "$$x^{(k+1)} = x^{(k)} + \\mathop{diag}(A)^{-1} r^{(k)} = x^{(k)} + \\mathop{diag}(A)^{-1} (b − Ax^{(k)})$$\n",
    "\n",
    "Since the most computationally expensive operation in an iterative scheme is generally the matrix-vector product, for implementational purposes, we minimise them. This finally gives:\n",
    "$x^{(k+1)} = \\mathop{diag}(A)^{-1} \\left(b - (\\mathop{diag}(A)-A) x^{(k)}\\right)$\n",
    "\n",
    "Let's set up two different matrices for the solve"
   ]
  },
  {
   "cell_type": "code",
   "execution_count": 1,
   "metadata": {},
   "outputs": [],
   "source": [
    "import numpy as np\n",
    "import numpy.matlib\n",
    "import matplotlib.pyplot as plt\n",
    "from scipy.sparse import diags\n",
    "\n",
    "N=100\n",
    "h=1/N\n",
    "diagonals1 = [-np.ones(N-1), 2*np.ones(N), -np.ones(N-1)]\n",
    "A1 = diags(diagonals1, [-1, 0, 1]).toarray()/h/h\n",
    "diagonals2 = [-np.ones(N-1), 2.1*np.ones(N), -np.ones(N-1)]\n",
    "A2 = diags(diagonals2, [-1, 0, 1]).toarray()/h/h"
   ]
  },
  {
   "cell_type": "markdown",
   "metadata": {},
   "source": [
    "and a random right hand side"
   ]
  },
  {
   "cell_type": "code",
   "execution_count": 2,
   "metadata": {},
   "outputs": [],
   "source": [
    "b = 20*np.matlib.rand(N,1)"
   ]
  },
  {
   "cell_type": "markdown",
   "metadata": {},
   "source": [
    "Solving (with an inbuilt direct) solver"
   ]
  },
  {
   "cell_type": "code",
   "execution_count": 4,
   "metadata": {},
   "outputs": [],
   "source": [
    "ex1 = np.linalg.solve(A1,b)                                # solve system\n",
    "Y1 = np.vstack((np.array([[0]]),ex1,np.array([[0]])));      # add Dirichlet boundary\n",
    "ex2 = np.linalg.solve(A2,b)                                # solve system\n",
    "Y2 = np.vstack((np.array([[0]]),ex2,np.array([[0]])));      # add Dirichlet boundary"
   ]
  },
  {
   "cell_type": "markdown",
   "metadata": {},
   "source": [
    "Now we can implement the Jacobi relaxation:"
   ]
  },
  {
   "cell_type": "code",
   "execution_count": 11,
   "metadata": {},
   "outputs": [
    {
     "data": {
      "image/png": "[encoded data removed]",
      "text/plain": [
       "<Figure size 432x288 with 1 Axes>"
      ]
     },
     "metadata": {
      "needs_background": "light"
     },
     "output_type": "display_data"
    }
   ],
   "source": [
    "def jacobiRelaxation(A, b, x0, maxIter):\n",
    "    D = np.diag(np.diag(A))          # Define D_A\n",
    "    D_inv = np.diag(1 / np.diag(D))  # precompute inverse\n",
    "    x = x0\n",
    "    for i in range(maxIter):\n",
    "        x_new = np.dot(D_inv, b - np.dot(A-D, x)) # Jacobi Relaxation\n",
    "        if(i == maxIter-1):\n",
    "            print(\"Residual\", np.linalg.norm(b - np.dot(A,x_new)))\n",
    "        x = x_new\n",
    "    return x\n",
    "\n",
    "x0 = np.zeros(N).reshape(-1,1)    # initial guess\n",
    "Y = jacobiRelaxation(A2,b,x0,0); #solve\n",
    "Y = np.vstack((np.array([[0]]),Y,np.array([[0]]))) # add Dirichlet conditions\n",
    "X = np.linspace(0,1,Y.size)\n",
    "#plot\n",
    "fig, ax = plt.subplots()\n",
    "ax.set_xlim([0, 1])\n",
    "ax.plot(X, abs(Y-Y2));"
   ]
  },
  {
   "cell_type": "markdown",
   "metadata": {},
   "source": [
    "### Jacobi Relaxation\n",
    "In order to implement the Jacobi relaxation we require some additional storage required (x_new). However, x and x_new can be computed in any order (and in parallel).\n",
    "\n",
    "### Convergence Analysis\n",
    "To see when the iteration converges let's repose the scheme (yet again):\n",
    "$$x^{(k+1)} = (I - \\mathop{diag}(A)^{-1} A) x^{(k )} + \\mathop{diag}(A)^{-1} b =: Mx^{(k )} + Nb$$\n",
    "- where $I$ is the identity matrix,\n",
    "- $M:= I - \\mathop{diag}(A)^{-1} A$ and $N= \\mathop{diag}(A)^{-1}$\n",
    "\n",
    "Using this formulation we can derive an iterative scheme for the error $e^{(i)} := x - x^{(i)}$:\n",
    "$$e^{(i+1)} = x - x^{(i+1)} =  x - M x^{(i)} - N b$$\n",
    "\n",
    "This means that\n",
    "\\begin{align} e^{(i+1)} &= M x + N b - M x^{(i)} - N b  \\\\ &= M x - M x^{(i)} = M e^{(i)} \\\\ \\Rightarrow  e^{(i)} &= M^i e^{(0)}. \\end{align}\n",
    "\n",
    "Or in other words, the convergence depends on how quickly multiplication with M reduces the error. Now we need a good way of computing that.\n",
    "\n",
    "Let's assume we know the  eigenvalues $\\mu_k$ and eigenvectors $v_k$ of iteration matrix $M$. Then an a multiplication with M reduces to a multiplication with a scalar:\n",
    "$$M v_k = \\mu_k v_k  \\quad\\Rightarrow \\quad M \\bigl( \\sum_k \\alpha_k v_k \\bigr) = \\sum_k \\alpha_k M v_k  = \\sum_k \\mu_k \\alpha_k v_k $$\n",
    "           \n",
    "Now we can write the error as a sum of eigenvectors:\n",
    "$$e^{(0)} = \\sum_{k} \\alpha_k v_k,$$ \n",
    "And compute the effect of $i$ multiplications with $M$:\n",
    "$$M^i e^{(0)} = M^i \\bigl( \\sum_k \\alpha_k v_k \\bigr) =\\sum_k (\\mu_k)^i \\alpha_k v_k $$\n",
    "                        \n",
    "Clearly, the scheme can only converge if $\\left| \\mu_k \\right| < 1$ for all $k$. And the closer the eigenvalues $\\mu_k$ are to zero, the faster the convergence will be. The overall convergence will dominated by largest eigenvalue $\\mu_k$.\n",
    "\n",
    "For Jacobi relaxation $M:= I - \\mathop{diag}(A)^{-1} A$. The eigenvalues of $M$ are less than one if the matrix is strictly diagonally dominant, i.e. if\n",
    "$$|a_{ii}|>\\sum_{i\\neq j}|a_{ij}|,~~\\forall i.$$\n",
    "\n",
    "### Gauss-Seidel Relaxation\n",
    "\n",
    "Following the same general algorithm as Jacobi we can create a somewhat more broadly applicable smoother. We replace the diagonal of A with lower triangular part of A.\n",
    "So, here: $B = L_A$ (lower triangular part of A)\n",
    "\n",
    "Directly inverting B is expensive, <em>but</em>, computing y with $By = b$ is cheap. We can simply use forward substitition to compute y\n",
    "$$y_1 = \\frac{b_1}{A_{11}},~ y_2 = \\frac{b_2 - A_{21} x_1}{A_{22}},~  \\dots , ~\n",
    "  y_m = \\frac{b_m - \\sum_{i=1}^{m-1} A_{mi}x_i}{A_{mm}}.$$\n",
    "  \n",
    "#### Iteration formulas in matrix-vector notation:\n",
    "- $ x^{(k+1)} = x^{(k)} + L_A^{-1} r^{(k)}\n",
    "                   = x^{(k)} + L_A^{-1} \\left( b - A x^{(k)} \\right)$\n",
    "\n",
    "#### for implementation:\n",
    "- $x^{(k+1)} = L_A^{-1} \\left( b - ( A - L_A ) x^{(k)} \\right)$\n",
    "- After inserting substition rule: \n",
    "    - $x^{(k+1)}_m = A_{mm}^{-1}\\left(b_m - \\sum_{i=1}^{N}A_{mi}x^{(k)}_i + A_{mm}x^{(k)}_m \\right)$\n",
    "\n",
    "#### for analysis:\n",
    "- $x^{(k+1)} = \\left( I - L_A^{-1}A \\right) x^{(k)}  + L_A^{-1} b\n",
    "                   =: M x^{(k)} + N b$"
   ]
  },
  {
   "cell_type": "code",
   "execution_count": 12,
   "metadata": {},
   "outputs": [],
   "source": [
    "def gaussSeidelRelaxation(A, b, x0, maxIter):\n",
    "    x = x0  # initial guess\n",
    "    res = b - np.dot(A,x)                        # initial residual\n",
    "    for i in range(maxIter):\n",
    "        for j in range(0,N):\n",
    "            x[j] = (1/A[j,j]) * (b[j] - np.dot(A[j,:],x) + A[j,j]*x[j]); # forward substitution and update\n",
    "        res = b - np.dot(A,x)  \n",
    "        if(i == maxIter-1):\n",
    "            print(\"Residual\", np.linalg.norm(res)) \n",
    "    return x"
   ]
  },
  {
   "cell_type": "code",
   "execution_count": 15,
   "metadata": {},
   "outputs": [
    {
     "name": "stdout",
     "output_type": "stream",
     "text": [
      "Residual 0.005663054194283568\n"
     ]
    },
    {
     "data": {
      "image/png": "[encoded data removed]",
      "text/plain": [
       "<Figure size 432x288 with 1 Axes>"
      ]
     },
     "metadata": {
      "needs_background": "light"
     },
     "output_type": "display_data"
    }
   ],
   "source": [
    "x0 = np.zeros(N).reshape(-1,1)    # initial guess\n",
    "Y = gaussSeidelRelaxation(A2,b,x0,100);\n",
    "Y = np.vstack((np.array([[0]]),Y,np.array([[0]])))\n",
    "X = np.linspace(0,1,Y.size)\n",
    "#plot\n",
    "fig, ax = plt.subplots()\n",
    "ax.set_xlim([0, 1])\n",
    "ax.plot(X, abs(Y-Y2));"
   ]
  },
  {
   "cell_type": "markdown",
   "metadata": {},
   "source": [
    "#### Gauss-Seidel Relaxation\n",
    "\n",
    "In this implementation we do not need an additional vector $x_{new}$ . Instead we compute the solution x in place.\n",
    "\n",
    "#### Properties\n",
    "- matrix $A$ needs to be symmetric positive definite (or strictly diagonally dominant)\n",
    "- usually faster convergence than Jacobi\n",
    "\n",
    "### Successive-Over-Relaxation (SOR)\n",
    "We see that the Gauss-Seidel and Jacobi corrections are “too small”. To compensate this we add an over-relaxation-factor $\\alpha$ and multiply our correction with it.\n",
    "\n",
    "For Jacobi Method this gives:\n",
    "- $x_i^{new} = x_i + \\alpha \\cdot A_{ii}^{-1}( b_i - \\sum_{j=1}^N  A_{ij} x_j)$\n",
    "- for 2D Poisson model problem (e.g. matrix A1):\n",
    "    - optimal $\\alpha \\approx 1.7$ improves convergence: $O(n^2) \\to O(n^{3/2})$"
   ]
  },
  {
   "cell_type": "code",
   "execution_count": 17,
   "metadata": {},
   "outputs": [
    {
     "name": "stdout",
     "output_type": "stream",
     "text": [
      "Residual 4.973874319339499e-07\n"
     ]
    },
    {
     "data": {
      "image/png": "[encoded data removed]",
      "text/plain": [
       "<Figure size 432x288 with 1 Axes>"
      ]
     },
     "metadata": {
      "needs_background": "light"
     },
     "output_type": "display_data"
    }
   ],
   "source": [
    "def SOR(A, b, alpha, x0, maxIter):\n",
    "    x = x0  # initial guess\n",
    "    xnew = np.zeros(N).reshape(-1,1)\n",
    "    for i in range(maxIter):\n",
    "        for j in range(0,N):\n",
    "            xnew[j] =  x[j] + (alpha/A[j,j]) * (b[j] - np.dot(A[j,:],x));\n",
    "        if(i == maxIter-1):\n",
    "            print(\"Residual\", np.linalg.norm( b - np.dot(A,x))) \n",
    "        x = xnew\n",
    "    return x\n",
    "\n",
    "x0 = np.zeros(N).reshape(-1,1)    # initial guess\n",
    "Y = SOR(A2,b,1.7,x0,100);\n",
    "Y = np.vstack((np.array([[0]]),Y,np.array([[0]])))\n",
    "X = np.linspace(0,1,Y.size)\n",
    "#plot\n",
    "fig, ax = plt.subplots()\n",
    "ax.set_xlim([0, 1])\n",
    "ax.plot(X, abs(Y-Y2));"
   ]
  },
  {
   "cell_type": "markdown",
   "metadata": {},
   "source": [
    "### Relaxation Methods: Summary\n",
    "\n",
    "How about performance? For the methods we have looked at so far it is usually quite slow. In the code example with size  only $N=100$: \n",
    "    1. Jacobi:needed 140 of iterations to reach tol=$1e-4$\n",
    "    2. Gauss-Seidel: needed $70$ iterations tol=$1e-4$\n",
    "    3. SOR: needed $36$ iterations tol=$1e-4$\n",
    "        \n",
    "#### Our next topics:\n",
    "1. How slow are the methods exactly?\n",
    "2. What is the underlying reason?\n",
    "3. Is there a fix?"
   ]
  },
  {
   "cell_type": "code",
   "execution_count": null,
   "metadata": {},
   "outputs": [],
   "source": []
  }
 ],
 "metadata": {
  "kernelspec": {
   "display_name": "Python 3",
   "language": "python",
   "name": "python3"
  },
  "language_info": {
   "codemirror_mode": {
    "name": "ipython",
    "version": 3
   },
   "file_extension": ".py",
   "mimetype": "text/x-python",
   "name": "python",
   "nbconvert_exporter": "python",
   "pygments_lexer": "ipython3",
   "version": "3.8.5"
  }
 },
 "nbformat": 4,
 "nbformat_minor": 1
}
